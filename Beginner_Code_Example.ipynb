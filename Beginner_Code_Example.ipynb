{
  "nbformat": 4,
  "nbformat_minor": 0,
  "metadata": {
    "colab": {
      "provenance": [],
      "authorship_tag": "ABX9TyMUW9l77TD/YUB6q9j81nNZ",
      "include_colab_link": true
    },
    "kernelspec": {
      "name": "python3",
      "display_name": "Python 3"
    },
    "language_info": {
      "name": "python"
    }
  },
  "cells": [
    {
      "cell_type": "markdown",
      "metadata": {
        "id": "view-in-github",
        "colab_type": "text"
      },
      "source": [
        "<a href=\"https://colab.research.google.com/github/Avril009d/Avril009d/blob/main/Beginner_Code_Example.ipynb\" target=\"_parent\"><img src=\"https://colab.research.google.com/assets/colab-badge.svg\" alt=\"Open In Colab\"/></a>"
      ]
    },
    {
      "cell_type": "markdown",
      "source": [
        "# **Beginner Code Example**"
      ],
      "metadata": {
        "id": "8tn7FQXqn6-q"
      }
    },
    {
      "cell_type": "markdown",
      "source": [
        "*We are going to create a simple user-defined function that calculates the total for an income increase*"
      ],
      "metadata": {
        "id": "8XWFktRdoa3X"
      }
    },
    {
      "cell_type": "markdown",
      "source": [
        "Create a list of what we want to calculate\n",
        "- Gross amount\n",
        "- ~Net Amount~\n",
        "- Percentange of increase"
      ],
      "metadata": {
        "id": "Z_0l4aUcpBa2"
      }
    },
    {
      "cell_type": "code",
      "source": [
        "#Create a user defined function\n",
        "#Unlike programming languages such as C++ or JAVA, Python is dynamically typed. This means that the interpreter determines the type of a variable at runtime based on the value assigned to it.\n",
        "\n",
        "def salary_increase(gross_sal:float,percentage:float):\n",
        "  your_name = input('Enter in your first name: ')\n",
        "  yn = your_name.upper()\n",
        "  increase = gross_sal * percentage\n",
        "  new_salary = round(gross_sal + increase,2)\n",
        "  return f'{yn} your new salary is: ${new_salary:,}'\n"
      ],
      "metadata": {
        "id": "kh1elnwZo9E0"
      },
      "execution_count": null,
      "outputs": []
    },
    {
      "cell_type": "markdown",
      "source": [
        "### **Call the function in three ways**"
      ],
      "metadata": {
        "id": "A11ScY5JkQpV"
      }
    },
    {
      "cell_type": "code",
      "source": [
        "#Ask for user input for what values to pass as arguments\n",
        "current_sal = float(input('Enter in your current salary: '))\n",
        "per_increase = float(input('Enter in the percentage that your salary is increasing [ex:.03 for 3%]: '))\n",
        "\n",
        "#Call the function and then pass in the inputs as agruments\n",
        "salary_increase(current_sal,per_increase)"
      ],
      "metadata": {
        "colab": {
          "base_uri": "https://localhost:8080/",
          "height": 87
        },
        "id": "XzqL9Uoei6bg",
        "outputId": "7bf9008c-97a0-479f-d184-e126d3e2bb40"
      },
      "execution_count": null,
      "outputs": [
        {
          "name": "stdout",
          "output_type": "stream",
          "text": [
            "Enter in your current salary: 75000.75\n",
            "Enter in the percentage that your salary is increasing [ex:.03 for 3%]: .05\n",
            "Enter in your first name: olivia\n"
          ]
        },
        {
          "output_type": "execute_result",
          "data": {
            "text/plain": [
              "'OLIVIA your new salary is: $78,750.79'"
            ],
            "application/vnd.google.colaboratory.intrinsic+json": {
              "type": "string"
            }
          },
          "metadata": {},
          "execution_count": 10
        }
      ]
    },
    {
      "cell_type": "code",
      "source": [
        "#Call the function and manually add the arguments\n",
        "salary_increase(gross_sal=85000,percentage=.03)"
      ],
      "metadata": {
        "colab": {
          "base_uri": "https://localhost:8080/",
          "height": 53
        },
        "id": "emIGAyPCkG7Q",
        "outputId": "5e824cbb-f5c5-4fcf-cccc-ef87a7d7f4ea"
      },
      "execution_count": null,
      "outputs": [
        {
          "name": "stdout",
          "output_type": "stream",
          "text": [
            "Enter in your first name: olivia\n"
          ]
        },
        {
          "output_type": "execute_result",
          "data": {
            "text/plain": [
              "'OLIVIA your new salary is: $87,550.0'"
            ],
            "application/vnd.google.colaboratory.intrinsic+json": {
              "type": "string"
            }
          },
          "metadata": {},
          "execution_count": 11
        }
      ]
    },
    {
      "cell_type": "code",
      "source": [
        "#Call the function and manually add the arguments\n",
        "salary_increase(85000,.04)"
      ],
      "metadata": {
        "colab": {
          "base_uri": "https://localhost:8080/",
          "height": 53
        },
        "id": "t7jh8NEXk6ql",
        "outputId": "780c7a65-0c45-46ea-f7be-a1d8575ef746"
      },
      "execution_count": null,
      "outputs": [
        {
          "name": "stdout",
          "output_type": "stream",
          "text": [
            "Enter in your first name: Jason\n"
          ]
        },
        {
          "output_type": "execute_result",
          "data": {
            "text/plain": [
              "'JASON your new salary is: $88,400.0'"
            ],
            "application/vnd.google.colaboratory.intrinsic+json": {
              "type": "string"
            }
          },
          "metadata": {},
          "execution_count": 13
        }
      ]
    },
    {
      "cell_type": "markdown",
      "source": [
        "**Salary Table**"
      ],
      "metadata": {
        "id": "g9qeumeLqKKa"
      }
    },
    {
      "cell_type": "markdown",
      "source": [
        "|Salary| Year|\n",
        "|------|-----|\n",
        "|Amount|Year1|\n",
        "|Amount2|Year2|\n",
        "|Amount3|Year3|\n"
      ],
      "metadata": {
        "id": "HQxLtBf-oYdV"
      }
    },
    {
      "cell_type": "markdown",
      "source": [
        "## -----------------------------------------------------"
      ],
      "metadata": {
        "id": "48qHOlYupGxk"
      }
    },
    {
      "cell_type": "markdown",
      "source": [
        "*Fill in the table below with your salary inputs above*\n",
        "\n",
        "Double click this cell and edit the table by highlighting and replacing \"Amount\" with one of the numbers above and when finished.\n",
        "\n",
        "|Salary| Year|\n",
        "|------|-----|\n",
        "|78,751|2024|\n",
        "|87,550|2025|\n",
        "|88,400|2026|\n"
      ],
      "metadata": {
        "id": "kbN9RB_mn8mj"
      }
    },
    {
      "cell_type": "markdown",
      "source": [
        "# Resource for Python Learning:\n",
        "Select the link......\n",
        "\n",
        "[W3 Schools](https://www.w3schools.com/python/python_intro.asp)"
      ],
      "metadata": {
        "id": "D_rKamBOmxVX"
      }
    }
  ]
}