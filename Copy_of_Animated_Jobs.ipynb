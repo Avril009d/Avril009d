{
  "metadata": {
    "kernelspec": {
      "language": "python",
      "display_name": "Python 3",
      "name": "python3"
    },
    "language_info": {
      "name": "python",
      "version": "3.10.12",
      "mimetype": "text/x-python",
      "codemirror_mode": {
        "name": "ipython",
        "version": 3
      },
      "pygments_lexer": "ipython3",
      "nbconvert_exporter": "python",
      "file_extension": ".py"
    },
    "kaggle": {
      "accelerator": "none",
      "dataSources": [],
      "dockerImageVersionId": 30839,
      "isInternetEnabled": false,
      "language": "python",
      "sourceType": "notebook",
      "isGpuEnabled": false
    },
    "colab": {
      "provenance": [],
      "include_colab_link": true
    }
  },
  "nbformat_minor": 0,
  "nbformat": 4,
  "cells": [
    {
      "cell_type": "markdown",
      "metadata": {
        "id": "view-in-github",
        "colab_type": "text"
      },
      "source": [
        "<a href=\"https://colab.research.google.com/github/Avril009d/Avril009d/blob/main/Copy_of_Animated_Jobs.ipynb\" target=\"_parent\"><img src=\"https://colab.research.google.com/assets/colab-badge.svg\" alt=\"Open In Colab\"/></a>"
      ]
    },
    {
      "cell_type": "code",
      "source": [
        "# This Python 3 environment comes with many helpful analytics libraries installed\n",
        "# It is defined by the kaggle/python Docker image: https://github.com/kaggle/docker-python\n",
        "# For example, here's several helpful packages to load\n",
        "\n",
        "import numpy as np # linear algebra\n",
        "import pandas as pd # data processing, CSV file I/O (e.g. pd.read_csv)\n",
        "\n",
        "# Input data files are available in the read-only \"../input/\" directory\n",
        "# For example, running this (by clicking run or pressing Shift+Enter) will list all files under the input directory\n",
        "\n",
        "import os\n",
        "for dirname, _, filenames in os.walk('/kaggle/input'):\n",
        "    for filename in filenames:\n",
        "        print(os.path.join(dirname, filename))\n",
        "\n",
        "# You can write up to 20GB to the current directory (/kaggle/working/) that gets preserved as output when you create a version using \"Save & Run All\"\n",
        "# You can also write temporary files to /kaggle/temp/, but they won't be saved outside of the current session"
      ],
      "metadata": {
        "_uuid": "8f2839f25d086af736a60e9eeb907d3b93b6e0e5",
        "_cell_guid": "b1076dfc-b9ad-4769-8c92-a6c4dae69d19",
        "trusted": true,
        "id": "6cqo3kKa1ubO"
      },
      "outputs": [],
      "execution_count": null
    },
    {
      "cell_type": "code",
      "source": [
        "'''This is to capture user input for animated cartoon jobs'''"
      ],
      "metadata": {
        "trusted": true,
        "id": "yN7OULCg1ubT"
      },
      "outputs": [],
      "execution_count": null
    },
    {
      "cell_type": "code",
      "source": [
        "#Import modules\n",
        "import pandas as pd\n",
        "import os\n",
        "import csv\n",
        "import random as rnd\n",
        "from textblob import TextBlob"
      ],
      "metadata": {
        "trusted": true,
        "execution": {
          "iopub.status.busy": "2025-01-22T21:04:34.09021Z",
          "iopub.status.idle": "2025-01-22T21:04:34.090631Z",
          "shell.execute_reply": "2025-01-22T21:04:34.090447Z"
        },
        "id": "lvrBSOZB1ubU"
      },
      "outputs": [],
      "execution_count": 1
    },
    {
      "cell_type": "code",
      "source": [
        "#Create a new file name animated_jobs.csv\n",
        "\n",
        "animated_jobs = open('animated_jobs.csv', \"w\")\n",
        "\n",
        "#Add the header files for the animated_jobs csv\n",
        "\n",
        "with open('animated_jobs.csv', 'w') as aj:\n",
        "  aj.write(f'AnimatorId,FirstName, LastName, JobTitle, Salary')"
      ],
      "metadata": {
        "trusted": true,
        "execution": {
          "iopub.status.busy": "2025-01-22T21:05:18.597271Z",
          "iopub.execute_input": "2025-01-22T21:05:18.597605Z",
          "iopub.status.idle": "2025-01-22T21:05:18.602368Z",
          "shell.execute_reply.started": "2025-01-22T21:05:18.597582Z",
          "shell.execute_reply": "2025-01-22T21:05:18.601185Z"
        },
        "id": "f-h5PJIh1ubV"
      },
      "outputs": [],
      "execution_count": 2
    },
    {
      "cell_type": "code",
      "source": [
        "#Define the animatorID\n",
        "# diff = round(rnd.random(),5)\n",
        "# print(diff)\n",
        "for num in range(1,11):\n",
        "  diff = round(rnd.random(),5)\n",
        "  animatorID = diff\n",
        "  print(animatorID)"
      ],
      "metadata": {
        "id": "BSVNsU6C3C91",
        "outputId": "d66aecf0-e356-4940-afa3-e5b9e6d6239a",
        "colab": {
          "base_uri": "https://localhost:8080/"
        }
      },
      "execution_count": 3,
      "outputs": [
        {
          "output_type": "stream",
          "name": "stdout",
          "text": [
            "0.02006\n",
            "0.23143\n",
            "0.72527\n",
            "0.45783\n",
            "0.12593\n",
            "0.56909\n",
            "0.79417\n",
            "0.60618\n",
            "0.68102\n",
            "0.08284\n"
          ]
        }
      ]
    },
    {
      "cell_type": "code",
      "source": [
        "animatorID = round(rnd.random(),4)\n",
        "# print(animatorID)"
      ],
      "metadata": {
        "id": "k7ud4ovU5hFj"
      },
      "execution_count": 10,
      "outputs": []
    },
    {
      "cell_type": "code",
      "source": [
        "#Ask for user input for each animator id, first name, last name, job title, fictious salary\n",
        "\n",
        "while True:\n",
        "  add_career = input(\"Do you want to add an animated cartoon's record (Y or N): \")\n",
        "  if add_career.lower() == \"y\" or add_career.upper() == \"Y\":\n",
        "    firstName = input(\"First Name: \")\n",
        "    lastName = input(\"Last Name: \")\n",
        "    jobTitle = input(\"Job Title: \")\n",
        "    salary = float(input(\"Salary: \"))\n",
        "    with open('animated_jobs.csv', 'a') as animated:\n",
        "      animated = animated.write(f'\\n{animatorID},{firstName},{lastName},{jobTitle},{salary}')\n",
        "  else:\n",
        "    break\n",
        "    print('Exiting the program........')"
      ],
      "metadata": {
        "id": "Z3VzRWm111gD",
        "colab": {
          "base_uri": "https://localhost:8080/"
        },
        "outputId": "9bc86e04-b037-47d7-d5f8-080423da5eb0"
      },
      "execution_count": 9,
      "outputs": [
        {
          "name": "stdout",
          "output_type": "stream",
          "text": [
            "Do you want to add an animated cartoon's record (Y or N): y\n",
            "First Name: Homer\n",
            "Last Name: Simpson\n",
            "Job Title: Nuclear Power Technician\n",
            "Salary: 71000\n",
            "Do you want to add an animated cartoon's record (Y or N): y\n",
            "First Name: Peter\n",
            "Last Name: Griffin\n",
            "Job Title: Toy Inspector\n",
            "Salary: 55000\n",
            "Do you want to add an animated cartoon's record (Y or N): y\n",
            "First Name: Hank\n",
            "Last Name: Hill\n",
            "Job Title: Propane SalesMan \n",
            "Salary: 60000\n",
            "Do you want to add an animated cartoon's record (Y or N): y\n",
            "First Name: Cartman\n",
            "Last Name: \n",
            "Job Title: Student\n",
            "Salary: 20\n",
            "Do you want to add an animated cartoon's record (Y or N): Y\n",
            "First Name: Marge\n",
            "Last Name: Simpson\n",
            "Job Title: HomeMaker\n",
            "Salary: 12000\n",
            "Do you want to add an animated cartoon's record (Y or N): y\n",
            "First Name: Gerald\n",
            "Last Name: Broflovski\n",
            "Job Title: Lawyer\n",
            "Salary: 175000\n",
            "Do you want to add an animated cartoon's record (Y or N): y\n",
            "First Name: Glenn\n",
            "Last Name: Quagmire\n",
            "Job Title: Pilot\n",
            "Salary: 112000\n",
            "Do you want to add an animated cartoon's record (Y or N): Y\n",
            "First Name: Steve\n",
            "Last Name: Black\n",
            "Job Title: Financial Consultant\n",
            "Salary: 119949\n",
            "Do you want to add an animated cartoon's record (Y or N): Lisa\n"
          ]
        }
      ]
    },
    {
      "cell_type": "code",
      "source": [],
      "metadata": {
        "id": "Bl2_eXK1115E"
      },
      "execution_count": null,
      "outputs": []
    }
  ]
}